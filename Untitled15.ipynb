{
 "cells": [
  {
   "cell_type": "code",
   "execution_count": 1,
   "id": "c461486b",
   "metadata": {},
   "outputs": [],
   "source": [
    "import numpy as np"
   ]
  },
  {
   "cell_type": "code",
   "execution_count": 2,
   "id": "b2548a76",
   "metadata": {},
   "outputs": [
    {
     "data": {
      "text/plain": [
       "array([[0.1039086 , 0.39441262],\n",
       "       [0.98705812, 0.25412161],\n",
       "       [0.88424151, 0.41917792]])"
      ]
     },
     "execution_count": 2,
     "metadata": {},
     "output_type": "execute_result"
    }
   ],
   "source": [
    "np.random.rand(3,2)"
   ]
  },
  {
   "cell_type": "code",
   "execution_count": 3,
   "id": "498bcffb",
   "metadata": {},
   "outputs": [
    {
     "data": {
      "text/plain": [
       "array([[-0.26985137,  0.44525814],\n",
       "       [-0.53917658,  0.67184958],\n",
       "       [ 0.11374398,  0.76921284]])"
      ]
     },
     "execution_count": 3,
     "metadata": {},
     "output_type": "execute_result"
    }
   ],
   "source": [
    "np.random.randn(3,2)"
   ]
  },
  {
   "cell_type": "code",
   "execution_count": 4,
   "id": "7971c6e3",
   "metadata": {},
   "outputs": [
    {
     "data": {
      "text/plain": [
       "81"
      ]
     },
     "execution_count": 4,
     "metadata": {},
     "output_type": "execute_result"
    }
   ],
   "source": [
    "np.random.randint(34,100)"
   ]
  },
  {
   "cell_type": "code",
   "execution_count": 5,
   "id": "d6628de4",
   "metadata": {},
   "outputs": [
    {
     "data": {
      "text/plain": [
       "array([30, 22, 54, 33, 39, 51, 31, 34, 39, 23, 42, 28, 52, 20, 50, 25, 40,\n",
       "       25, 37, 50, 26, 53, 40, 21, 38, 34, 43, 42, 50, 52, 34, 44, 55, 38,\n",
       "       42, 22, 21, 43, 33, 47, 55, 36, 51, 27, 50, 32, 40, 27, 28, 35, 53,\n",
       "       40, 39, 24, 32, 51, 52, 44, 21, 40, 32, 55, 47, 47, 50, 55, 36, 25,\n",
       "       23, 30, 31, 54, 48, 36, 42, 50, 30, 34, 42, 21, 38, 26, 31, 32, 38,\n",
       "       32, 21, 22, 47, 48, 46, 25, 52, 27, 38, 52, 54, 34, 23, 44])"
      ]
     },
     "execution_count": 5,
     "metadata": {},
     "output_type": "execute_result"
    }
   ],
   "source": [
    "np.random.randint(20,56,100)"
   ]
  },
  {
   "cell_type": "code",
   "execution_count": 6,
   "id": "001903ae",
   "metadata": {},
   "outputs": [
    {
     "data": {
      "text/plain": [
       "array([ 0,  1,  2,  3,  4,  5,  6,  7,  8,  9, 10, 11, 12, 13, 14, 15, 16,\n",
       "       17, 18, 19, 20, 21, 22, 23, 24, 25, 26, 27, 28, 29])"
      ]
     },
     "execution_count": 6,
     "metadata": {},
     "output_type": "execute_result"
    }
   ],
   "source": [
    "sample_array=np.arange(30)\n",
    "sample_array"
   ]
  },
  {
   "cell_type": "code",
   "execution_count": 7,
   "id": "b9b60669",
   "metadata": {},
   "outputs": [
    {
     "data": {
      "text/plain": [
       "array([ 1, 96, 22, 85, 48, 66, 44, 81, 21, 75, 19, 51, 38, 77, 90,  4, 23,\n",
       "       66, 74, 73])"
      ]
     },
     "execution_count": 7,
     "metadata": {},
     "output_type": "execute_result"
    }
   ],
   "source": [
    "rand_array=np.random.randint(0,100,20)\n",
    "rand_array"
   ]
  },
  {
   "cell_type": "code",
   "execution_count": 8,
   "id": "fe15c914",
   "metadata": {},
   "outputs": [
    {
     "data": {
      "text/plain": [
       "array([[ 0,  1,  2,  3,  4,  5],\n",
       "       [ 6,  7,  8,  9, 10, 11],\n",
       "       [12, 13, 14, 15, 16, 17],\n",
       "       [18, 19, 20, 21, 22, 23],\n",
       "       [24, 25, 26, 27, 28, 29]])"
      ]
     },
     "execution_count": 8,
     "metadata": {},
     "output_type": "execute_result"
    }
   ],
   "source": [
    "sample_array.reshape(5,6)"
   ]
  },
  {
   "cell_type": "code",
   "execution_count": 9,
   "id": "a62949e6",
   "metadata": {},
   "outputs": [
    {
     "ename": "ValueError",
     "evalue": "cannot reshape array of size 30 into shape (3,7)",
     "output_type": "error",
     "traceback": [
      "\u001b[1;31m-----------------\u001b[0m",
      "\u001b[1;31mValueError\u001b[0mTraceback (most recent call last)",
      "\u001b[1;32m~\\AppData\\Local\\Temp\\ipykernel_13520\\1023317412.py\u001b[0m in \u001b[0;36m<module>\u001b[1;34m\u001b[0m\n\u001b[1;32m----> 1\u001b[1;33m \u001b[0msample_array\u001b[0m\u001b[1;33m.\u001b[0m\u001b[0mreshape\u001b[0m\u001b[1;33m(\u001b[0m\u001b[1;36m3\u001b[0m\u001b[1;33m,\u001b[0m\u001b[1;36m7\u001b[0m\u001b[1;33m)\u001b[0m\u001b[1;33m\u001b[0m\u001b[1;33m\u001b[0m\u001b[0m\n\u001b[0m",
      "\u001b[1;31mValueError\u001b[0m: cannot reshape array of size 30 into shape (3,7)"
     ]
    }
   ],
   "source": [
    "sample_array.reshape(3,7)"
   ]
  },
  {
   "cell_type": "code",
   "execution_count": 11,
   "id": "b05ebf73",
   "metadata": {},
   "outputs": [
    {
     "data": {
      "text/plain": [
       "1"
      ]
     },
     "execution_count": 11,
     "metadata": {},
     "output_type": "execute_result"
    }
   ],
   "source": [
    "rand_array.min()"
   ]
  },
  {
   "cell_type": "code",
   "execution_count": 12,
   "id": "7d07e50b",
   "metadata": {},
   "outputs": [
    {
     "data": {
      "text/plain": [
       "0"
      ]
     },
     "execution_count": 12,
     "metadata": {},
     "output_type": "execute_result"
    }
   ],
   "source": [
    "rand_array.argmin()"
   ]
  },
  {
   "cell_type": "code",
   "execution_count": 13,
   "id": "4006cb96",
   "metadata": {},
   "outputs": [
    {
     "data": {
      "text/plain": [
       "dtype('int32')"
      ]
     },
     "execution_count": 13,
     "metadata": {},
     "output_type": "execute_result"
    }
   ],
   "source": [
    "sample_array.dtype"
   ]
  },
  {
   "cell_type": "code",
   "execution_count": 14,
   "id": "315f8679",
   "metadata": {},
   "outputs": [
    {
     "data": {
      "text/plain": [
       "array([[1., 0., 0., 0., 0.],\n",
       "       [0., 1., 0., 0., 0.],\n",
       "       [0., 0., 1., 0., 0.],\n",
       "       [0., 0., 0., 1., 0.],\n",
       "       [0., 0., 0., 0., 1.]])"
      ]
     },
     "execution_count": 14,
     "metadata": {},
     "output_type": "execute_result"
    }
   ],
   "source": [
    "a=np.eye(5)\n",
    "a"
   ]
  },
  {
   "cell_type": "code",
   "execution_count": 15,
   "id": "92c0c709",
   "metadata": {},
   "outputs": [
    {
     "data": {
      "text/plain": [
       "array([[1., 0., 0., 0., 0.],\n",
       "       [0., 1., 0., 0., 0.],\n",
       "       [0., 0., 1., 0., 0.],\n",
       "       [0., 0., 0., 1., 0.],\n",
       "       [0., 0., 0., 0., 1.]])"
      ]
     },
     "execution_count": 15,
     "metadata": {},
     "output_type": "execute_result"
    }
   ],
   "source": [
    "a.T"
   ]
  },
  {
   "cell_type": "code",
   "execution_count": 17,
   "id": "93c2c4b8",
   "metadata": {},
   "outputs": [
    {
     "data": {
      "text/plain": [
       "array([[0.39587357, 0.80038009, 0.04117201],\n",
       "       [0.84594671, 0.13953435, 0.42292538]])"
      ]
     },
     "execution_count": 17,
     "metadata": {},
     "output_type": "execute_result"
    }
   ],
   "source": [
    "a=np.random.rand(2,3)\n",
    "a"
   ]
  },
  {
   "cell_type": "code",
   "execution_count": 18,
   "id": "931c02a4",
   "metadata": {},
   "outputs": [
    {
     "data": {
      "text/plain": [
       "array([[0.39587357, 0.84594671],\n",
       "       [0.80038009, 0.13953435],\n",
       "       [0.04117201, 0.42292538]])"
      ]
     },
     "execution_count": 18,
     "metadata": {},
     "output_type": "execute_result"
    }
   ],
   "source": [
    "a.T"
   ]
  },
  {
   "cell_type": "code",
   "execution_count": 19,
   "id": "9c8ba787",
   "metadata": {},
   "outputs": [
    {
     "data": {
      "text/plain": [
       "array([10, 11, 12, 13, 14, 15, 16, 17, 18, 19, 20])"
      ]
     },
     "execution_count": 19,
     "metadata": {},
     "output_type": "execute_result"
    }
   ],
   "source": [
    "sample_array=np.arange(10,21)\n",
    "sample_array"
   ]
  },
  {
   "cell_type": "code",
   "execution_count": 20,
   "id": "69d60960",
   "metadata": {},
   "outputs": [
    {
     "data": {
      "text/plain": [
       "13"
      ]
     },
     "execution_count": 20,
     "metadata": {},
     "output_type": "execute_result"
    }
   ],
   "source": [
    "sample_array[3]"
   ]
  },
  {
   "cell_type": "code",
   "execution_count": 21,
   "id": "65148c2d",
   "metadata": {},
   "outputs": [
    {
     "data": {
      "text/plain": [
       "array([13, 14, 15, 16])"
      ]
     },
     "execution_count": 21,
     "metadata": {},
     "output_type": "execute_result"
    }
   ],
   "source": [
    "sample_array[3:7]"
   ]
  },
  {
   "cell_type": "code",
   "execution_count": 22,
   "id": "28915d72",
   "metadata": {},
   "outputs": [
    {
     "data": {
      "text/plain": [
       "array([ 10, 100, 100, 100,  14,  15,  16,  17,  18,  19,  20])"
      ]
     },
     "execution_count": 22,
     "metadata": {},
     "output_type": "execute_result"
    }
   ],
   "source": [
    "sample_array[1:4]=100\n",
    "sample_array"
   ]
  },
  {
   "cell_type": "code",
   "execution_count": 23,
   "id": "cd41baee",
   "metadata": {},
   "outputs": [
    {
     "data": {
      "text/plain": [
       "array([10, 11, 12, 13, 14, 15, 16, 17, 18, 19, 20])"
      ]
     },
     "execution_count": 23,
     "metadata": {},
     "output_type": "execute_result"
    }
   ],
   "source": [
    "sample_array=np.arange(10,21)\n",
    "sample_array"
   ]
  },
  {
   "cell_type": "code",
   "execution_count": 24,
   "id": "9bb5f7af",
   "metadata": {},
   "outputs": [
    {
     "data": {
      "text/plain": [
       "array([10, 11, 12, 13, 14, 15, 16])"
      ]
     },
     "execution_count": 24,
     "metadata": {},
     "output_type": "execute_result"
    }
   ],
   "source": [
    "sample_array[0:7]"
   ]
  },
  {
   "cell_type": "code",
   "execution_count": 25,
   "id": "02d98ebd",
   "metadata": {},
   "outputs": [
    {
     "data": {
      "text/plain": [
       "array([10, 11, 12, 13, 14, 15, 16])"
      ]
     },
     "execution_count": 25,
     "metadata": {},
     "output_type": "execute_result"
    }
   ],
   "source": [
    "subset_sample_array=sample_array[0:7]\n",
    "subset_sample_array"
   ]
  },
  {
   "cell_type": "code",
   "execution_count": 26,
   "id": "0d9d3423",
   "metadata": {},
   "outputs": [
    {
     "data": {
      "text/plain": [
       "array([  10, 1001, 1001, 1001,   14,   15,   16])"
      ]
     },
     "execution_count": 26,
     "metadata": {},
     "output_type": "execute_result"
    }
   ],
   "source": [
    "subset_sample_array[1:4]=1001\n",
    "subset_sample_array"
   ]
  },
  {
   "cell_type": "code",
   "execution_count": 27,
   "id": "ddd8da4f",
   "metadata": {},
   "outputs": [
    {
     "data": {
      "text/plain": [
       "array([1001, 1001, 1001, 1001, 1001, 1001, 1001])"
      ]
     },
     "execution_count": 27,
     "metadata": {},
     "output_type": "execute_result"
    }
   ],
   "source": [
    "subset_sample_array[:]=1001\n",
    "subset_sample_array"
   ]
  },
  {
   "cell_type": "markdown",
   "id": "27ed8160",
   "metadata": {},
   "source": [
    "Two dimentional array"
   ]
  },
  {
   "cell_type": "code",
   "execution_count": 28,
   "id": "ec18646e",
   "metadata": {},
   "outputs": [
    {
     "data": {
      "text/plain": [
       "array([[10, 20, 30, 40],\n",
       "       [11, 22, 33, 44],\n",
       "       [12, 23, 34, 45]])"
      ]
     },
     "execution_count": 28,
     "metadata": {},
     "output_type": "execute_result"
    }
   ],
   "source": [
    "sample_matrix=np.array(([10,20,30,40],[11,22,33,44],[12,23,34,45]))\n",
    "sample_matrix"
   ]
  },
  {
   "cell_type": "code",
   "execution_count": 29,
   "id": "17707a7d",
   "metadata": {},
   "outputs": [
    {
     "data": {
      "text/plain": [
       "30"
      ]
     },
     "execution_count": 29,
     "metadata": {},
     "output_type": "execute_result"
    }
   ],
   "source": [
    "sample_matrix[0][2]"
   ]
  },
  {
   "cell_type": "code",
   "execution_count": 30,
   "id": "f0475975",
   "metadata": {},
   "outputs": [
    {
     "data": {
      "text/plain": [
       "array([12, 23, 34, 45])"
      ]
     },
     "execution_count": 30,
     "metadata": {},
     "output_type": "execute_result"
    }
   ],
   "source": [
    "sample_matrix[2,:]"
   ]
  },
  {
   "cell_type": "code",
   "execution_count": 31,
   "id": "bd90858b",
   "metadata": {},
   "outputs": [
    {
     "data": {
      "text/plain": [
       "array([12, 23, 34, 45])"
      ]
     },
     "execution_count": 31,
     "metadata": {},
     "output_type": "execute_result"
    }
   ],
   "source": [
    "sample_matrix[2]"
   ]
  },
  {
   "cell_type": "code",
   "execution_count": 32,
   "id": "142120b8",
   "metadata": {},
   "outputs": [
    {
     "data": {
      "text/plain": [
       "array([[40, 30],\n",
       "       [44, 33],\n",
       "       [45, 34]])"
      ]
     },
     "execution_count": 32,
     "metadata": {},
     "output_type": "execute_result"
    }
   ],
   "source": [
    "sample_matrix[:,(3,2)]"
   ]
  },
  {
   "cell_type": "markdown",
   "id": "f8ef9dab",
   "metadata": {},
   "source": [
    "Selection techniques"
   ]
  },
  {
   "cell_type": "code",
   "execution_count": 33,
   "id": "16c9dbf1",
   "metadata": {},
   "outputs": [],
   "source": [
    "import pandas as pd\n",
    "import numpy as np"
   ]
  },
  {
   "cell_type": "code",
   "execution_count": 37,
   "id": "bb8520cf",
   "metadata": {},
   "outputs": [],
   "source": [
    "labels=['w','x','y','z']\n",
    "sample_list=[100,200,300,400]\n",
    "array=np.array([10,20,30,40])\n",
    "dict={'w':11,'x':22,'y':33,'z':44}"
   ]
  },
  {
   "cell_type": "code",
   "execution_count": 38,
   "id": "8a9c04a7",
   "metadata": {},
   "outputs": [
    {
     "data": {
      "text/plain": [
       "0    100\n",
       "1    200\n",
       "2    300\n",
       "3    400\n",
       "dtype: int64"
      ]
     },
     "execution_count": 38,
     "metadata": {},
     "output_type": "execute_result"
    }
   ],
   "source": [
    "pd.Series(data=sample_list)"
   ]
  },
  {
   "cell_type": "code",
   "execution_count": 39,
   "id": "d56aa996",
   "metadata": {},
   "outputs": [
    {
     "data": {
      "text/plain": [
       "w    100\n",
       "x    200\n",
       "y    300\n",
       "z    400\n",
       "dtype: int64"
      ]
     },
     "execution_count": 39,
     "metadata": {},
     "output_type": "execute_result"
    }
   ],
   "source": [
    "pd.Series(data=sample_list,index=labels)"
   ]
  },
  {
   "cell_type": "code",
   "execution_count": 40,
   "id": "f4210069",
   "metadata": {},
   "outputs": [
    {
     "data": {
      "text/plain": [
       "w    100\n",
       "x    200\n",
       "y    300\n",
       "z    400\n",
       "dtype: int64"
      ]
     },
     "execution_count": 40,
     "metadata": {},
     "output_type": "execute_result"
    }
   ],
   "source": [
    "pd.Series(sample_list,labels)"
   ]
  },
  {
   "cell_type": "code",
   "execution_count": 41,
   "id": "3470e886",
   "metadata": {},
   "outputs": [
    {
     "data": {
      "text/plain": [
       "w    11\n",
       "x    22\n",
       "y    33\n",
       "z    44\n",
       "dtype: int64"
      ]
     },
     "execution_count": 41,
     "metadata": {},
     "output_type": "execute_result"
    }
   ],
   "source": [
    "pd.Series(dict)"
   ]
  },
  {
   "cell_type": "markdown",
   "id": "776911fe",
   "metadata": {},
   "source": [
    "Pandas"
   ]
  },
  {
   "cell_type": "markdown",
   "id": "c55da23e",
   "metadata": {},
   "source": [
    "Pandas dataframe and indexing"
   ]
  },
  {
   "cell_type": "code",
   "execution_count": 45,
   "id": "c518a00d",
   "metadata": {},
   "outputs": [
    {
     "data": {
      "text/plain": [
       "cricket       1\n",
       "football      2\n",
       "basketball    3\n",
       "golf          4\n",
       "dtype: int64"
      ]
     },
     "execution_count": 45,
     "metadata": {},
     "output_type": "execute_result"
    }
   ],
   "source": [
    "sports1=pd.Series([1,2,3,4],index=['cricket','football','basketball','golf'])\n",
    "sports1"
   ]
  },
  {
   "cell_type": "code",
   "execution_count": 48,
   "id": "5ca14976",
   "metadata": {},
   "outputs": [
    {
     "data": {
      "text/plain": [
       "1"
      ]
     },
     "execution_count": 48,
     "metadata": {},
     "output_type": "execute_result"
    }
   ],
   "source": [
    "sports1['cricket']"
   ]
  },
  {
   "cell_type": "code",
   "execution_count": 49,
   "id": "53397a83",
   "metadata": {},
   "outputs": [
    {
     "data": {
      "text/plain": [
       "cricket     11\n",
       "football     2\n",
       "baseball     3\n",
       "golf         4\n",
       "dtype: int64"
      ]
     },
     "execution_count": 49,
     "metadata": {},
     "output_type": "execute_result"
    }
   ],
   "source": [
    "sports2=pd.Series([11,2,3,4],index=['cricket','football','baseball','golf'])\n",
    "sports2"
   ]
  },
  {
   "cell_type": "code",
   "execution_count": 50,
   "id": "06e76ff0",
   "metadata": {},
   "outputs": [
    {
     "data": {
      "text/plain": [
       "baseball       NaN\n",
       "basketball     NaN\n",
       "cricket       12.0\n",
       "football       4.0\n",
       "golf           8.0\n",
       "dtype: float64"
      ]
     },
     "execution_count": 50,
     "metadata": {},
     "output_type": "execute_result"
    }
   ],
   "source": [
    "sports1+sports2"
   ]
  },
  {
   "cell_type": "code",
   "execution_count": 54,
   "id": "4b846ce3",
   "metadata": {},
   "outputs": [
    {
     "data": {
      "text/html": [
       "<div>\n",
       "<style scoped>\n",
       "    .dataframe tbody tr th:only-of-type {\n",
       "        vertical-align: middle;\n",
       "    }\n",
       "\n",
       "    .dataframe tbody tr th {\n",
       "        vertical-align: top;\n",
       "    }\n",
       "\n",
       "    .dataframe thead th {\n",
       "        text-align: right;\n",
       "    }\n",
       "</style>\n",
       "<table border=\"1\" class=\"dataframe\">\n",
       "  <thead>\n",
       "    <tr style=\"text-align: right;\">\n",
       "      <th></th>\n",
       "      <th>Score1</th>\n",
       "      <th>Score2</th>\n",
       "      <th>Score3</th>\n",
       "      <th>Score4</th>\n",
       "      <th>Score5</th>\n",
       "    </tr>\n",
       "  </thead>\n",
       "  <tbody>\n",
       "    <tr>\n",
       "      <th>A</th>\n",
       "      <td>0.149421</td>\n",
       "      <td>0.109985</td>\n",
       "      <td>0.470859</td>\n",
       "      <td>0.198883</td>\n",
       "      <td>0.438246</td>\n",
       "    </tr>\n",
       "    <tr>\n",
       "      <th>B</th>\n",
       "      <td>0.811760</td>\n",
       "      <td>0.253290</td>\n",
       "      <td>0.372009</td>\n",
       "      <td>0.904277</td>\n",
       "      <td>0.736025</td>\n",
       "    </tr>\n",
       "    <tr>\n",
       "      <th>C</th>\n",
       "      <td>0.599926</td>\n",
       "      <td>0.645295</td>\n",
       "      <td>0.181435</td>\n",
       "      <td>0.304677</td>\n",
       "      <td>0.629870</td>\n",
       "    </tr>\n",
       "    <tr>\n",
       "      <th>D</th>\n",
       "      <td>0.571866</td>\n",
       "      <td>0.977666</td>\n",
       "      <td>0.575462</td>\n",
       "      <td>0.904529</td>\n",
       "      <td>0.083466</td>\n",
       "    </tr>\n",
       "    <tr>\n",
       "      <th>E</th>\n",
       "      <td>0.407339</td>\n",
       "      <td>0.208409</td>\n",
       "      <td>0.225277</td>\n",
       "      <td>0.694333</td>\n",
       "      <td>0.671705</td>\n",
       "    </tr>\n",
       "    <tr>\n",
       "      <th>F</th>\n",
       "      <td>0.264690</td>\n",
       "      <td>0.793503</td>\n",
       "      <td>0.758218</td>\n",
       "      <td>0.918041</td>\n",
       "      <td>0.469499</td>\n",
       "    </tr>\n",
       "    <tr>\n",
       "      <th>G</th>\n",
       "      <td>0.204269</td>\n",
       "      <td>0.859066</td>\n",
       "      <td>0.816448</td>\n",
       "      <td>0.645586</td>\n",
       "      <td>0.818887</td>\n",
       "    </tr>\n",
       "    <tr>\n",
       "      <th>H</th>\n",
       "      <td>0.503987</td>\n",
       "      <td>0.665456</td>\n",
       "      <td>0.606960</td>\n",
       "      <td>0.245650</td>\n",
       "      <td>0.359787</td>\n",
       "    </tr>\n",
       "  </tbody>\n",
       "</table>\n",
       "</div>"
      ],
      "text/plain": [
       "     Score1    Score2    Score3    Score4    Score5\n",
       "A  0.149421  0.109985  0.470859  0.198883  0.438246\n",
       "B  0.811760  0.253290  0.372009  0.904277  0.736025\n",
       "C  0.599926  0.645295  0.181435  0.304677  0.629870\n",
       "D  0.571866  0.977666  0.575462  0.904529  0.083466\n",
       "E  0.407339  0.208409  0.225277  0.694333  0.671705\n",
       "F  0.264690  0.793503  0.758218  0.918041  0.469499\n",
       "G  0.204269  0.859066  0.816448  0.645586  0.818887\n",
       "H  0.503987  0.665456  0.606960  0.245650  0.359787"
      ]
     },
     "execution_count": 54,
     "metadata": {},
     "output_type": "execute_result"
    }
   ],
   "source": [
    "df1=pd.DataFrame(np.random.rand(8,5),index='A B C D E F G H'.split(),columns='Score1 Score2 Score3 Score4 Score5'.split())\n",
    "df1"
   ]
  },
  {
   "cell_type": "code",
   "execution_count": 55,
   "id": "33ab72ae",
   "metadata": {},
   "outputs": [
    {
     "data": {
      "text/plain": [
       "A    0.470859\n",
       "B    0.372009\n",
       "C    0.181435\n",
       "D    0.575462\n",
       "E    0.225277\n",
       "F    0.758218\n",
       "G    0.816448\n",
       "H    0.606960\n",
       "Name: Score3, dtype: float64"
      ]
     },
     "execution_count": 55,
     "metadata": {},
     "output_type": "execute_result"
    }
   ],
   "source": [
    "df1[\"Score3\"]"
   ]
  },
  {
   "cell_type": "code",
   "execution_count": 58,
   "id": "b80af4da",
   "metadata": {},
   "outputs": [
    {
     "data": {
      "text/html": [
       "<div>\n",
       "<style scoped>\n",
       "    .dataframe tbody tr th:only-of-type {\n",
       "        vertical-align: middle;\n",
       "    }\n",
       "\n",
       "    .dataframe tbody tr th {\n",
       "        vertical-align: top;\n",
       "    }\n",
       "\n",
       "    .dataframe thead th {\n",
       "        text-align: right;\n",
       "    }\n",
       "</style>\n",
       "<table border=\"1\" class=\"dataframe\">\n",
       "  <thead>\n",
       "    <tr style=\"text-align: right;\">\n",
       "      <th></th>\n",
       "      <th>Score1</th>\n",
       "      <th>Score2</th>\n",
       "      <th>Score3</th>\n",
       "    </tr>\n",
       "  </thead>\n",
       "  <tbody>\n",
       "    <tr>\n",
       "      <th>A</th>\n",
       "      <td>0.149421</td>\n",
       "      <td>0.109985</td>\n",
       "      <td>0.470859</td>\n",
       "    </tr>\n",
       "    <tr>\n",
       "      <th>B</th>\n",
       "      <td>0.811760</td>\n",
       "      <td>0.253290</td>\n",
       "      <td>0.372009</td>\n",
       "    </tr>\n",
       "    <tr>\n",
       "      <th>C</th>\n",
       "      <td>0.599926</td>\n",
       "      <td>0.645295</td>\n",
       "      <td>0.181435</td>\n",
       "    </tr>\n",
       "    <tr>\n",
       "      <th>D</th>\n",
       "      <td>0.571866</td>\n",
       "      <td>0.977666</td>\n",
       "      <td>0.575462</td>\n",
       "    </tr>\n",
       "    <tr>\n",
       "      <th>E</th>\n",
       "      <td>0.407339</td>\n",
       "      <td>0.208409</td>\n",
       "      <td>0.225277</td>\n",
       "    </tr>\n",
       "    <tr>\n",
       "      <th>F</th>\n",
       "      <td>0.264690</td>\n",
       "      <td>0.793503</td>\n",
       "      <td>0.758218</td>\n",
       "    </tr>\n",
       "    <tr>\n",
       "      <th>G</th>\n",
       "      <td>0.204269</td>\n",
       "      <td>0.859066</td>\n",
       "      <td>0.816448</td>\n",
       "    </tr>\n",
       "    <tr>\n",
       "      <th>H</th>\n",
       "      <td>0.503987</td>\n",
       "      <td>0.665456</td>\n",
       "      <td>0.606960</td>\n",
       "    </tr>\n",
       "  </tbody>\n",
       "</table>\n",
       "</div>"
      ],
      "text/plain": [
       "     Score1    Score2    Score3\n",
       "A  0.149421  0.109985  0.470859\n",
       "B  0.811760  0.253290  0.372009\n",
       "C  0.599926  0.645295  0.181435\n",
       "D  0.571866  0.977666  0.575462\n",
       "E  0.407339  0.208409  0.225277\n",
       "F  0.264690  0.793503  0.758218\n",
       "G  0.204269  0.859066  0.816448\n",
       "H  0.503987  0.665456  0.606960"
      ]
     },
     "execution_count": 58,
     "metadata": {},
     "output_type": "execute_result"
    }
   ],
   "source": [
    "df1[[\"Score1\",\"Score2\",\"Score3\"]]"
   ]
  },
  {
   "cell_type": "code",
   "execution_count": 60,
   "id": "a9332a30",
   "metadata": {},
   "outputs": [
    {
     "data": {
      "text/html": [
       "<div>\n",
       "<style scoped>\n",
       "    .dataframe tbody tr th:only-of-type {\n",
       "        vertical-align: middle;\n",
       "    }\n",
       "\n",
       "    .dataframe tbody tr th {\n",
       "        vertical-align: top;\n",
       "    }\n",
       "\n",
       "    .dataframe thead th {\n",
       "        text-align: right;\n",
       "    }\n",
       "</style>\n",
       "<table border=\"1\" class=\"dataframe\">\n",
       "  <thead>\n",
       "    <tr style=\"text-align: right;\">\n",
       "      <th></th>\n",
       "      <th>Score1</th>\n",
       "      <th>Score2</th>\n",
       "      <th>Score3</th>\n",
       "      <th>Score4</th>\n",
       "      <th>Score5</th>\n",
       "      <th>Score6</th>\n",
       "    </tr>\n",
       "  </thead>\n",
       "  <tbody>\n",
       "    <tr>\n",
       "      <th>A</th>\n",
       "      <td>0.149421</td>\n",
       "      <td>0.109985</td>\n",
       "      <td>0.470859</td>\n",
       "      <td>0.198883</td>\n",
       "      <td>0.438246</td>\n",
       "      <td>0.259406</td>\n",
       "    </tr>\n",
       "    <tr>\n",
       "      <th>B</th>\n",
       "      <td>0.811760</td>\n",
       "      <td>0.253290</td>\n",
       "      <td>0.372009</td>\n",
       "      <td>0.904277</td>\n",
       "      <td>0.736025</td>\n",
       "      <td>1.065050</td>\n",
       "    </tr>\n",
       "    <tr>\n",
       "      <th>C</th>\n",
       "      <td>0.599926</td>\n",
       "      <td>0.645295</td>\n",
       "      <td>0.181435</td>\n",
       "      <td>0.304677</td>\n",
       "      <td>0.629870</td>\n",
       "      <td>1.245221</td>\n",
       "    </tr>\n",
       "    <tr>\n",
       "      <th>D</th>\n",
       "      <td>0.571866</td>\n",
       "      <td>0.977666</td>\n",
       "      <td>0.575462</td>\n",
       "      <td>0.904529</td>\n",
       "      <td>0.083466</td>\n",
       "      <td>1.549532</td>\n",
       "    </tr>\n",
       "    <tr>\n",
       "      <th>E</th>\n",
       "      <td>0.407339</td>\n",
       "      <td>0.208409</td>\n",
       "      <td>0.225277</td>\n",
       "      <td>0.694333</td>\n",
       "      <td>0.671705</td>\n",
       "      <td>0.615748</td>\n",
       "    </tr>\n",
       "    <tr>\n",
       "      <th>F</th>\n",
       "      <td>0.264690</td>\n",
       "      <td>0.793503</td>\n",
       "      <td>0.758218</td>\n",
       "      <td>0.918041</td>\n",
       "      <td>0.469499</td>\n",
       "      <td>1.058193</td>\n",
       "    </tr>\n",
       "    <tr>\n",
       "      <th>G</th>\n",
       "      <td>0.204269</td>\n",
       "      <td>0.859066</td>\n",
       "      <td>0.816448</td>\n",
       "      <td>0.645586</td>\n",
       "      <td>0.818887</td>\n",
       "      <td>1.063335</td>\n",
       "    </tr>\n",
       "    <tr>\n",
       "      <th>H</th>\n",
       "      <td>0.503987</td>\n",
       "      <td>0.665456</td>\n",
       "      <td>0.606960</td>\n",
       "      <td>0.245650</td>\n",
       "      <td>0.359787</td>\n",
       "      <td>1.169443</td>\n",
       "    </tr>\n",
       "  </tbody>\n",
       "</table>\n",
       "</div>"
      ],
      "text/plain": [
       "     Score1    Score2    Score3    Score4    Score5    Score6\n",
       "A  0.149421  0.109985  0.470859  0.198883  0.438246  0.259406\n",
       "B  0.811760  0.253290  0.372009  0.904277  0.736025  1.065050\n",
       "C  0.599926  0.645295  0.181435  0.304677  0.629870  1.245221\n",
       "D  0.571866  0.977666  0.575462  0.904529  0.083466  1.549532\n",
       "E  0.407339  0.208409  0.225277  0.694333  0.671705  0.615748\n",
       "F  0.264690  0.793503  0.758218  0.918041  0.469499  1.058193\n",
       "G  0.204269  0.859066  0.816448  0.645586  0.818887  1.063335\n",
       "H  0.503987  0.665456  0.606960  0.245650  0.359787  1.169443"
      ]
     },
     "execution_count": 60,
     "metadata": {},
     "output_type": "execute_result"
    }
   ],
   "source": [
    "df1['Score6']=df1['Score1']+df1['Score2']\n",
    "df1"
   ]
  },
  {
   "cell_type": "code",
   "execution_count": 63,
   "id": "48c3cddc",
   "metadata": {},
   "outputs": [
    {
     "data": {
      "text/html": [
       "<div>\n",
       "<style scoped>\n",
       "    .dataframe tbody tr th:only-of-type {\n",
       "        vertical-align: middle;\n",
       "    }\n",
       "\n",
       "    .dataframe tbody tr th {\n",
       "        vertical-align: top;\n",
       "    }\n",
       "\n",
       "    .dataframe thead th {\n",
       "        text-align: right;\n",
       "    }\n",
       "</style>\n",
       "<table border=\"1\" class=\"dataframe\">\n",
       "  <thead>\n",
       "    <tr style=\"text-align: right;\">\n",
       "      <th></th>\n",
       "      <th>ID</th>\n",
       "      <th>Name</th>\n",
       "      <th>Profit</th>\n",
       "    </tr>\n",
       "  </thead>\n",
       "  <tbody>\n",
       "    <tr>\n",
       "      <th>0</th>\n",
       "      <td>101</td>\n",
       "      <td>John</td>\n",
       "      <td>20</td>\n",
       "    </tr>\n",
       "    <tr>\n",
       "      <th>1</th>\n",
       "      <td>102</td>\n",
       "      <td>Mercy</td>\n",
       "      <td>54</td>\n",
       "    </tr>\n",
       "    <tr>\n",
       "      <th>2</th>\n",
       "      <td>103</td>\n",
       "      <td>Akash</td>\n",
       "      <td>56</td>\n",
       "    </tr>\n",
       "    <tr>\n",
       "      <th>3</th>\n",
       "      <td>107</td>\n",
       "      <td>Kevin</td>\n",
       "      <td>87</td>\n",
       "    </tr>\n",
       "    <tr>\n",
       "      <th>4</th>\n",
       "      <td>176</td>\n",
       "      <td>Lally</td>\n",
       "      <td>123</td>\n",
       "    </tr>\n",
       "  </tbody>\n",
       "</table>\n",
       "</div>"
      ],
      "text/plain": [
       "    ID   Name  Profit\n",
       "0  101   John      20\n",
       "1  102  Mercy      54\n",
       "2  103  Akash      56\n",
       "3  107  Kevin      87\n",
       "4  176  Lally     123"
      ]
     },
     "execution_count": 63,
     "metadata": {},
     "output_type": "execute_result"
    }
   ],
   "source": [
    "df2={'ID':['101','102','103','107','176'],'Name':['John','Mercy','Akash','Kevin','Lally'],'Profit':[20,54,56,87,123]}\n",
    "df=pd.DataFrame(df2)\n",
    "df"
   ]
  },
  {
   "cell_type": "code",
   "execution_count": 64,
   "id": "6f2b9ef5",
   "metadata": {},
   "outputs": [
    {
     "data": {
      "text/plain": [
       "0    101\n",
       "1    102\n",
       "2    103\n",
       "3    107\n",
       "4    176\n",
       "Name: ID, dtype: object"
      ]
     },
     "execution_count": 64,
     "metadata": {},
     "output_type": "execute_result"
    }
   ],
   "source": [
    "df[\"ID\"]"
   ]
  },
  {
   "cell_type": "code",
   "execution_count": 66,
   "id": "4b3055e9",
   "metadata": {},
   "outputs": [
    {
     "data": {
      "text/html": [
       "<div>\n",
       "<style scoped>\n",
       "    .dataframe tbody tr th:only-of-type {\n",
       "        vertical-align: middle;\n",
       "    }\n",
       "\n",
       "    .dataframe tbody tr th {\n",
       "        vertical-align: top;\n",
       "    }\n",
       "\n",
       "    .dataframe thead th {\n",
       "        text-align: right;\n",
       "    }\n",
       "</style>\n",
       "<table border=\"1\" class=\"dataframe\">\n",
       "  <thead>\n",
       "    <tr style=\"text-align: right;\">\n",
       "      <th></th>\n",
       "      <th>ID</th>\n",
       "      <th>Name</th>\n",
       "    </tr>\n",
       "  </thead>\n",
       "  <tbody>\n",
       "    <tr>\n",
       "      <th>0</th>\n",
       "      <td>101</td>\n",
       "      <td>John</td>\n",
       "    </tr>\n",
       "    <tr>\n",
       "      <th>1</th>\n",
       "      <td>102</td>\n",
       "      <td>Mercy</td>\n",
       "    </tr>\n",
       "    <tr>\n",
       "      <th>2</th>\n",
       "      <td>103</td>\n",
       "      <td>Akash</td>\n",
       "    </tr>\n",
       "    <tr>\n",
       "      <th>3</th>\n",
       "      <td>107</td>\n",
       "      <td>Kevin</td>\n",
       "    </tr>\n",
       "    <tr>\n",
       "      <th>4</th>\n",
       "      <td>176</td>\n",
       "      <td>Lally</td>\n",
       "    </tr>\n",
       "  </tbody>\n",
       "</table>\n",
       "</div>"
      ],
      "text/plain": [
       "    ID   Name\n",
       "0  101   John\n",
       "1  102  Mercy\n",
       "2  103  Akash\n",
       "3  107  Kevin\n",
       "4  176  Lally"
      ]
     },
     "execution_count": 66,
     "metadata": {},
     "output_type": "execute_result"
    }
   ],
   "source": [
    "df[[\"ID\",\"Name\"]]"
   ]
  },
  {
   "cell_type": "code",
   "execution_count": 67,
   "id": "06ddca10",
   "metadata": {},
   "outputs": [
    {
     "data": {
      "text/html": [
       "<div>\n",
       "<style scoped>\n",
       "    .dataframe tbody tr th:only-of-type {\n",
       "        vertical-align: middle;\n",
       "    }\n",
       "\n",
       "    .dataframe tbody tr th {\n",
       "        vertical-align: top;\n",
       "    }\n",
       "\n",
       "    .dataframe thead th {\n",
       "        text-align: right;\n",
       "    }\n",
       "</style>\n",
       "<table border=\"1\" class=\"dataframe\">\n",
       "  <thead>\n",
       "    <tr style=\"text-align: right;\">\n",
       "      <th></th>\n",
       "      <th>Name</th>\n",
       "      <th>Profit</th>\n",
       "    </tr>\n",
       "  </thead>\n",
       "  <tbody>\n",
       "    <tr>\n",
       "      <th>0</th>\n",
       "      <td>John</td>\n",
       "      <td>20</td>\n",
       "    </tr>\n",
       "    <tr>\n",
       "      <th>1</th>\n",
       "      <td>Mercy</td>\n",
       "      <td>54</td>\n",
       "    </tr>\n",
       "    <tr>\n",
       "      <th>2</th>\n",
       "      <td>Akash</td>\n",
       "      <td>56</td>\n",
       "    </tr>\n",
       "    <tr>\n",
       "      <th>3</th>\n",
       "      <td>Kevin</td>\n",
       "      <td>87</td>\n",
       "    </tr>\n",
       "    <tr>\n",
       "      <th>4</th>\n",
       "      <td>Lally</td>\n",
       "      <td>123</td>\n",
       "    </tr>\n",
       "  </tbody>\n",
       "</table>\n",
       "</div>"
      ],
      "text/plain": [
       "    Name  Profit\n",
       "0   John      20\n",
       "1  Mercy      54\n",
       "2  Akash      56\n",
       "3  Kevin      87\n",
       "4  Lally     123"
      ]
     },
     "execution_count": 67,
     "metadata": {},
     "output_type": "execute_result"
    }
   ],
   "source": [
    "df.drop(\"ID\",axis=1)"
   ]
  },
  {
   "cell_type": "code",
   "execution_count": 68,
   "id": "c9b31718",
   "metadata": {},
   "outputs": [
    {
     "data": {
      "text/html": [
       "<div>\n",
       "<style scoped>\n",
       "    .dataframe tbody tr th:only-of-type {\n",
       "        vertical-align: middle;\n",
       "    }\n",
       "\n",
       "    .dataframe tbody tr th {\n",
       "        vertical-align: top;\n",
       "    }\n",
       "\n",
       "    .dataframe thead th {\n",
       "        text-align: right;\n",
       "    }\n",
       "</style>\n",
       "<table border=\"1\" class=\"dataframe\">\n",
       "  <thead>\n",
       "    <tr style=\"text-align: right;\">\n",
       "      <th></th>\n",
       "      <th>ID</th>\n",
       "      <th>Name</th>\n",
       "      <th>Profit</th>\n",
       "    </tr>\n",
       "  </thead>\n",
       "  <tbody>\n",
       "    <tr>\n",
       "      <th>0</th>\n",
       "      <td>101</td>\n",
       "      <td>John</td>\n",
       "      <td>20</td>\n",
       "    </tr>\n",
       "    <tr>\n",
       "      <th>1</th>\n",
       "      <td>102</td>\n",
       "      <td>Mercy</td>\n",
       "      <td>54</td>\n",
       "    </tr>\n",
       "    <tr>\n",
       "      <th>2</th>\n",
       "      <td>103</td>\n",
       "      <td>Akash</td>\n",
       "      <td>56</td>\n",
       "    </tr>\n",
       "    <tr>\n",
       "      <th>4</th>\n",
       "      <td>176</td>\n",
       "      <td>Lally</td>\n",
       "      <td>123</td>\n",
       "    </tr>\n",
       "  </tbody>\n",
       "</table>\n",
       "</div>"
      ],
      "text/plain": [
       "    ID   Name  Profit\n",
       "0  101   John      20\n",
       "1  102  Mercy      54\n",
       "2  103  Akash      56\n",
       "4  176  Lally     123"
      ]
     },
     "execution_count": 68,
     "metadata": {},
     "output_type": "execute_result"
    }
   ],
   "source": [
    "df.drop(3)"
   ]
  }
 ],
 "metadata": {
  "kernelspec": {
   "display_name": "Python 3 (ipykernel)",
   "language": "python",
   "name": "python3"
  },
  "language_info": {
   "codemirror_mode": {
    "name": "ipython",
    "version": 3
   },
   "file_extension": ".py",
   "mimetype": "text/x-python",
   "name": "python",
   "nbconvert_exporter": "python",
   "pygments_lexer": "ipython3",
   "version": "3.9.13"
  }
 },
 "nbformat": 4,
 "nbformat_minor": 5
}
