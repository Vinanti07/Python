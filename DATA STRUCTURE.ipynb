{
 "cells": [
  {
   "cell_type": "markdown",
   "id": "c11814f2",
   "metadata": {},
   "source": [
    "List"
   ]
  },
  {
   "cell_type": "code",
   "execution_count": 2,
   "id": "c17f6ece",
   "metadata": {},
   "outputs": [
    {
     "data": {
      "text/plain": [
       "[1, 13.6, 'hello', 12, 1]"
      ]
     },
     "execution_count": 2,
     "metadata": {},
     "output_type": "execute_result"
    }
   ],
   "source": [
    "sample_list=[1,13.6,\"hello\",12,1]\n",
    "sample_list"
   ]
  },
  {
   "cell_type": "code",
   "execution_count": 3,
   "id": "4cb4164f",
   "metadata": {},
   "outputs": [
    {
     "data": {
      "text/plain": [
       "'hello'"
      ]
     },
     "execution_count": 3,
     "metadata": {},
     "output_type": "execute_result"
    }
   ],
   "source": [
    "sample_list[2]"
   ]
  },
  {
   "cell_type": "code",
   "execution_count": 4,
   "id": "8c8f1671",
   "metadata": {},
   "outputs": [
    {
     "data": {
      "text/plain": [
       "1"
      ]
     },
     "execution_count": 4,
     "metadata": {},
     "output_type": "execute_result"
    }
   ],
   "source": [
    "sample_list[-1]"
   ]
  },
  {
   "cell_type": "code",
   "execution_count": 5,
   "id": "950bbb3b",
   "metadata": {},
   "outputs": [
    {
     "data": {
      "text/plain": [
       "'hello'"
      ]
     },
     "execution_count": 5,
     "metadata": {},
     "output_type": "execute_result"
    }
   ],
   "source": [
    "sample_list[-3]"
   ]
  },
  {
   "cell_type": "code",
   "execution_count": 6,
   "id": "5aa820d2",
   "metadata": {},
   "outputs": [
    {
     "data": {
      "text/plain": [
       "[1, 'Shruti', 'hello', 12, 1]"
      ]
     },
     "execution_count": 6,
     "metadata": {},
     "output_type": "execute_result"
    }
   ],
   "source": [
    "sample_list[1]=\"Shruti\"\n",
    "sample_list"
   ]
  },
  {
   "cell_type": "markdown",
   "id": "8ca1899e",
   "metadata": {},
   "source": [
    "Tuple"
   ]
  },
  {
   "cell_type": "code",
   "execution_count": 7,
   "id": "1990959e",
   "metadata": {},
   "outputs": [
    {
     "data": {
      "text/plain": [
       "(1, 13.6, 'Shruti', 'HEY', 12, 1)"
      ]
     },
     "execution_count": 7,
     "metadata": {},
     "output_type": "execute_result"
    }
   ],
   "source": [
    "sample_tuple=(1,13.6,\"Shruti\",\"HEY\",12,1)\n",
    "sample_tuple"
   ]
  },
  {
   "cell_type": "code",
   "execution_count": 8,
   "id": "2d852b2d",
   "metadata": {},
   "outputs": [
    {
     "data": {
      "text/plain": [
       "'Shruti'"
      ]
     },
     "execution_count": 8,
     "metadata": {},
     "output_type": "execute_result"
    }
   ],
   "source": [
    "sample_tuple[2]"
   ]
  },
  {
   "cell_type": "code",
   "execution_count": 9,
   "id": "c6bfd6ef",
   "metadata": {},
   "outputs": [
    {
     "data": {
      "text/plain": [
       "1"
      ]
     },
     "execution_count": 9,
     "metadata": {},
     "output_type": "execute_result"
    }
   ],
   "source": [
    "sample_tuple[-1]"
   ]
  },
  {
   "cell_type": "code",
   "execution_count": 10,
   "id": "a3fa9659",
   "metadata": {},
   "outputs": [
    {
     "ename": "TypeError",
     "evalue": "'tuple' object does not support item assignment",
     "output_type": "error",
     "traceback": [
      "\u001b[1;31m---------------------------------------------------------------------------\u001b[0m",
      "\u001b[1;31mTypeError\u001b[0m                                 Traceback (most recent call last)",
      "\u001b[1;32m~\\AppData\\Local\\Temp\\ipykernel_11292\\2126080990.py\u001b[0m in \u001b[0;36m<module>\u001b[1;34m\u001b[0m\n\u001b[1;32m----> 1\u001b[1;33m \u001b[0msample_tuple\u001b[0m\u001b[1;33m[\u001b[0m\u001b[1;36m2\u001b[0m\u001b[1;33m]\u001b[0m\u001b[1;33m=\u001b[0m\u001b[1;36m54\u001b[0m\u001b[1;33m\u001b[0m\u001b[1;33m\u001b[0m\u001b[0m\n\u001b[0m\u001b[0;32m      2\u001b[0m \u001b[0msample_tuple\u001b[0m\u001b[1;33m\u001b[0m\u001b[1;33m\u001b[0m\u001b[0m\n",
      "\u001b[1;31mTypeError\u001b[0m: 'tuple' object does not support item assignment"
     ]
    }
   ],
   "source": [
    "sample_tuple[2]=54\n",
    "sample_tuple"
   ]
  },
  {
   "cell_type": "markdown",
   "id": "08d3730e",
   "metadata": {},
   "source": [
    "Dictionary"
   ]
  },
  {
   "cell_type": "code",
   "execution_count": 11,
   "id": "c6d20b29",
   "metadata": {},
   "outputs": [
    {
     "data": {
      "text/plain": [
       "{1: 'XYZ', 2: 54.34, 5: 'Shruti', 6: 12}"
      ]
     },
     "execution_count": 11,
     "metadata": {},
     "output_type": "execute_result"
    }
   ],
   "source": [
    "sample_dict={1:\"XYZ\",2:54.34,5:\"Shruti\",6:12}\n",
    "sample_dict"
   ]
  },
  {
   "cell_type": "code",
   "execution_count": 12,
   "id": "43dfb5a7",
   "metadata": {},
   "outputs": [
    {
     "data": {
      "text/plain": [
       "54.34"
      ]
     },
     "execution_count": 12,
     "metadata": {},
     "output_type": "execute_result"
    }
   ],
   "source": [
    "sample_dict[2]"
   ]
  },
  {
   "cell_type": "code",
   "execution_count": 13,
   "id": "0d3f77a1",
   "metadata": {},
   "outputs": [
    {
     "ename": "KeyError",
     "evalue": "4",
     "output_type": "error",
     "traceback": [
      "\u001b[1;31m---------------------------------------------------------------------------\u001b[0m",
      "\u001b[1;31mKeyError\u001b[0m                                  Traceback (most recent call last)",
      "\u001b[1;32m~\\AppData\\Local\\Temp\\ipykernel_11292\\2760474404.py\u001b[0m in \u001b[0;36m<module>\u001b[1;34m\u001b[0m\n\u001b[1;32m----> 1\u001b[1;33m \u001b[0msample_dict\u001b[0m\u001b[1;33m[\u001b[0m\u001b[1;36m4\u001b[0m\u001b[1;33m]\u001b[0m\u001b[1;33m\u001b[0m\u001b[1;33m\u001b[0m\u001b[0m\n\u001b[0m",
      "\u001b[1;31mKeyError\u001b[0m: 4"
     ]
    }
   ],
   "source": [
    "sample_dict[4]"
   ]
  },
  {
   "cell_type": "code",
   "execution_count": 14,
   "id": "46738cbb",
   "metadata": {},
   "outputs": [
    {
     "data": {
      "text/plain": [
       "{1: 'XYZ', 2: 54.34, 5: 'Shruti', 6: 12, 3: 'DATA SCIENCE'}"
      ]
     },
     "execution_count": 14,
     "metadata": {},
     "output_type": "execute_result"
    }
   ],
   "source": [
    "sample_dict[3]=\"DATA SCIENCE\"\n",
    "sample_dict"
   ]
  },
  {
   "cell_type": "code",
   "execution_count": 15,
   "id": "c1c9565d",
   "metadata": {},
   "outputs": [
    {
     "data": {
      "text/plain": [
       "{1: 'XYZ', 2: 54.34, 5: 'Shruti', 6: 12, 3: 'DATA SCIENCE', 4: 2}"
      ]
     },
     "execution_count": 15,
     "metadata": {},
     "output_type": "execute_result"
    }
   ],
   "source": [
    "sample_dict[4]=2\n",
    "sample_dict"
   ]
  },
  {
   "cell_type": "code",
   "execution_count": 16,
   "id": "3c2a8f88",
   "metadata": {},
   "outputs": [
    {
     "data": {
      "text/plain": [
       "{1: 'XYZ', 2: 4, 5: 'Shruti', 6: 12, 3: 'DATA SCIENCE', 4: 2}"
      ]
     },
     "execution_count": 16,
     "metadata": {},
     "output_type": "execute_result"
    }
   ],
   "source": [
    "sample_dict[2]=4\n",
    "sample_dict"
   ]
  },
  {
   "cell_type": "code",
   "execution_count": 17,
   "id": "34a7d6d4",
   "metadata": {},
   "outputs": [
    {
     "data": {
      "text/plain": [
       "{1: 456, 2: 'Fine', 3: 54.82}"
      ]
     },
     "execution_count": 17,
     "metadata": {},
     "output_type": "execute_result"
    }
   ],
   "source": [
    "sample_dict={1:456,2:\"XYZ\",3:54.82,2:\"Fine\"}\n",
    "sample_dict"
   ]
  },
  {
   "cell_type": "markdown",
   "id": "68a30232",
   "metadata": {},
   "source": [
    "Set"
   ]
  },
  {
   "cell_type": "code",
   "execution_count": 18,
   "id": "3b97c1d1",
   "metadata": {},
   "outputs": [
    {
     "ename": "SyntaxError",
     "evalue": "invalid syntax (3224710609.py, line 1)",
     "output_type": "error",
     "traceback": [
      "\u001b[1;36m  File \u001b[1;32m\"C:\\Users\\SHRUTI\\AppData\\Local\\Temp\\ipykernel_11292\\3224710609.py\"\u001b[1;36m, line \u001b[1;32m1\u001b[0m\n\u001b[1;33m    sample_set={1,27,,\"ABC\",13.6,156,\"frog\",\"12\",\"Ball\"}\u001b[0m\n\u001b[1;37m                     ^\u001b[0m\n\u001b[1;31mSyntaxError\u001b[0m\u001b[1;31m:\u001b[0m invalid syntax\n"
     ]
    }
   ],
   "source": [
    "sample_set={1,27,,\"ABC\",13.6,156,\"frog\",\"12\",\"Ball\"}\n",
    "sample_set"
   ]
  },
  {
   "cell_type": "code",
   "execution_count": 19,
   "id": "4defebce",
   "metadata": {},
   "outputs": [
    {
     "data": {
      "text/plain": [
       "{1, '12', 13.6, 156, 27, 'ABC', 'Ball', 'frog'}"
      ]
     },
     "execution_count": 19,
     "metadata": {},
     "output_type": "execute_result"
    }
   ],
   "source": [
    "sample_set={1,27,\"ABC\",13.6,156,\"frog\",\"12\",\"Ball\"}\n",
    "sample_set"
   ]
  },
  {
   "cell_type": "code",
   "execution_count": 20,
   "id": "e3ddcff2",
   "metadata": {},
   "outputs": [
    {
     "data": {
      "text/plain": [
       "{1, '12', 13.6, 156, 27, 5000, 'ABC', 'Ball', 'frog'}"
      ]
     },
     "execution_count": 20,
     "metadata": {},
     "output_type": "execute_result"
    }
   ],
   "source": [
    "sample_set.add(5000)\n",
    "sample_set"
   ]
  },
  {
   "cell_type": "code",
   "execution_count": 21,
   "id": "61b858d3",
   "metadata": {},
   "outputs": [
    {
     "data": {
      "text/plain": [
       "{1, '12', 13.6, 156, 27, 5000, 'ABC', 'Ball'}"
      ]
     },
     "execution_count": 21,
     "metadata": {},
     "output_type": "execute_result"
    }
   ],
   "source": [
    "sample_set.remove(\"frog\")\n",
    "sample_set"
   ]
  },
  {
   "cell_type": "code",
   "execution_count": 22,
   "id": "a2d99b23",
   "metadata": {},
   "outputs": [
    {
     "ename": "TypeError",
     "evalue": "'set' object is not subscriptable",
     "output_type": "error",
     "traceback": [
      "\u001b[1;31m---------------------------------------------------------------------------\u001b[0m",
      "\u001b[1;31mTypeError\u001b[0m                                 Traceback (most recent call last)",
      "\u001b[1;32m~\\AppData\\Local\\Temp\\ipykernel_11292\\3254054574.py\u001b[0m in \u001b[0;36m<module>\u001b[1;34m\u001b[0m\n\u001b[1;32m----> 1\u001b[1;33m \u001b[0msample_set\u001b[0m\u001b[1;33m[\u001b[0m\u001b[1;36m1\u001b[0m\u001b[1;33m]\u001b[0m\u001b[1;33m\u001b[0m\u001b[1;33m\u001b[0m\u001b[0m\n\u001b[0m",
      "\u001b[1;31mTypeError\u001b[0m: 'set' object is not subscriptable"
     ]
    }
   ],
   "source": [
    "sample_set[1]"
   ]
  },
  {
   "cell_type": "markdown",
   "id": "3a61b004",
   "metadata": {},
   "source": [
    "Numpy"
   ]
  },
  {
   "cell_type": "code",
   "execution_count": 23,
   "id": "910f3d1a",
   "metadata": {},
   "outputs": [],
   "source": [
    "import numpy as np"
   ]
  },
  {
   "cell_type": "code",
   "execution_count": 24,
   "id": "c9285066",
   "metadata": {},
   "outputs": [
    {
     "data": {
      "text/plain": [
       "array([1, 2, 3, 4])"
      ]
     },
     "execution_count": 24,
     "metadata": {},
     "output_type": "execute_result"
    }
   ],
   "source": [
    "arr=np.array([1,2,3,4])\n",
    "arr"
   ]
  },
  {
   "cell_type": "code",
   "execution_count": 25,
   "id": "ded9226a",
   "metadata": {},
   "outputs": [
    {
     "data": {
      "text/plain": [
       "array([[1, 2, 3],\n",
       "       [4, 5, 6],\n",
       "       [7, 8, 9]])"
      ]
     },
     "execution_count": 25,
     "metadata": {},
     "output_type": "execute_result"
    }
   ],
   "source": [
    "list_of_lists=[[1,2,3],[4,5,6],[7,8,9]]\n",
    "np.array(list_of_lists)"
   ]
  },
  {
   "cell_type": "code",
   "execution_count": 26,
   "id": "61c2ad83",
   "metadata": {},
   "outputs": [
    {
     "data": {
      "text/plain": [
       "array([0, 1, 2, 3, 4, 5, 6, 7, 8, 9])"
      ]
     },
     "execution_count": 26,
     "metadata": {},
     "output_type": "execute_result"
    }
   ],
   "source": [
    "np.arange(10)"
   ]
  },
  {
   "cell_type": "code",
   "execution_count": 27,
   "id": "3c97cbe4",
   "metadata": {},
   "outputs": [
    {
     "data": {
      "text/plain": [
       "array([ 1,  2,  3,  4,  5,  6,  7,  8,  9, 10, 11, 12, 13, 14, 15, 16, 17,\n",
       "       18, 19, 20, 21, 22, 23, 24, 25, 26, 27, 28, 29, 30, 31, 32, 33, 34,\n",
       "       35, 36, 37, 38, 39, 40, 41, 42, 43, 44, 45, 46, 47, 48, 49])"
      ]
     },
     "execution_count": 27,
     "metadata": {},
     "output_type": "execute_result"
    }
   ],
   "source": [
    "np.arange(1,50)"
   ]
  },
  {
   "cell_type": "code",
   "execution_count": 28,
   "id": "5180c4cf",
   "metadata": {},
   "outputs": [
    {
     "data": {
      "text/plain": [
       "array([ 1,  6, 11, 16, 21, 26, 31, 36, 41])"
      ]
     },
     "execution_count": 28,
     "metadata": {},
     "output_type": "execute_result"
    }
   ],
   "source": [
    "np.arange(1,46,5)"
   ]
  },
  {
   "cell_type": "code",
   "execution_count": 29,
   "id": "700345fd",
   "metadata": {},
   "outputs": [
    {
     "data": {
      "text/plain": [
       "array([0., 0., 0., 0., 0.])"
      ]
     },
     "execution_count": 29,
     "metadata": {},
     "output_type": "execute_result"
    }
   ],
   "source": [
    "np.zeros(5)"
   ]
  },
  {
   "cell_type": "code",
   "execution_count": 30,
   "id": "03d049b4",
   "metadata": {},
   "outputs": [
    {
     "data": {
      "text/plain": [
       "array([1, 1, 1, 1, 1, 1, 1, 1, 1, 1])"
      ]
     },
     "execution_count": 30,
     "metadata": {},
     "output_type": "execute_result"
    }
   ],
   "source": [
    "np.ones(10,int)"
   ]
  },
  {
   "cell_type": "code",
   "execution_count": 31,
   "id": "7915a1ef",
   "metadata": {},
   "outputs": [
    {
     "data": {
      "text/plain": [
       "array([0, 0, 0, 0, 0])"
      ]
     },
     "execution_count": 31,
     "metadata": {},
     "output_type": "execute_result"
    }
   ],
   "source": [
    "np.zeros(5,int)"
   ]
  },
  {
   "cell_type": "code",
   "execution_count": 32,
   "id": "ec39d828",
   "metadata": {},
   "outputs": [
    {
     "data": {
      "text/plain": [
       "array([[1., 1., 1., 1., 1.],\n",
       "       [1., 1., 1., 1., 1.]])"
      ]
     },
     "execution_count": 32,
     "metadata": {},
     "output_type": "execute_result"
    }
   ],
   "source": [
    "np.ones((2,5))"
   ]
  },
  {
   "cell_type": "code",
   "execution_count": 33,
   "id": "fff78258",
   "metadata": {},
   "outputs": [
    {
     "data": {
      "text/plain": [
       "array([[1, 1, 1, 1, 1],\n",
       "       [1, 1, 1, 1, 1]])"
      ]
     },
     "execution_count": 33,
     "metadata": {},
     "output_type": "execute_result"
    }
   ],
   "source": [
    "np.ones((2,5),int)"
   ]
  },
  {
   "cell_type": "markdown",
   "id": "b744c578",
   "metadata": {},
   "source": [
    "linspace"
   ]
  },
  {
   "cell_type": "code",
   "execution_count": 34,
   "id": "94b32126",
   "metadata": {},
   "outputs": [
    {
     "data": {
      "text/plain": [
       "array([0.        , 0.33333333, 0.66666667, 1.        ])"
      ]
     },
     "execution_count": 34,
     "metadata": {},
     "output_type": "execute_result"
    }
   ],
   "source": [
    "np.linspace(0,1,4)"
   ]
  },
  {
   "cell_type": "code",
   "execution_count": 35,
   "id": "2db647f3",
   "metadata": {},
   "outputs": [
    {
     "data": {
      "text/plain": [
       "array([ 0.        ,  2.85714286,  5.71428571,  8.57142857, 11.42857143,\n",
       "       14.28571429, 17.14285714, 20.        ])"
      ]
     },
     "execution_count": 35,
     "metadata": {},
     "output_type": "execute_result"
    }
   ],
   "source": [
    "np.linspace(0,20,8)"
   ]
  },
  {
   "cell_type": "code",
   "execution_count": 36,
   "id": "18bd5f14",
   "metadata": {},
   "outputs": [
    {
     "data": {
      "text/plain": [
       "array([[1., 0., 0., 0., 0.],\n",
       "       [0., 1., 0., 0., 0.],\n",
       "       [0., 0., 1., 0., 0.],\n",
       "       [0., 0., 0., 1., 0.],\n",
       "       [0., 0., 0., 0., 1.]])"
      ]
     },
     "execution_count": 36,
     "metadata": {},
     "output_type": "execute_result"
    }
   ],
   "source": [
    "np.eye(5)"
   ]
  },
  {
   "cell_type": "code",
   "execution_count": 37,
   "id": "d41c076e",
   "metadata": {},
   "outputs": [
    {
     "data": {
      "text/plain": [
       "array([[1., 0.],\n",
       "       [0., 1.]])"
      ]
     },
     "execution_count": 37,
     "metadata": {},
     "output_type": "execute_result"
    }
   ],
   "source": [
    "np.eye(2)"
   ]
  },
  {
   "cell_type": "code",
   "execution_count": null,
   "id": "2b533d37",
   "metadata": {},
   "outputs": [],
   "source": []
  }
 ],
 "metadata": {
  "kernelspec": {
   "display_name": "Python 3 (ipykernel)",
   "language": "python",
   "name": "python3"
  },
  "language_info": {
   "codemirror_mode": {
    "name": "ipython",
    "version": 3
   },
   "file_extension": ".py",
   "mimetype": "text/x-python",
   "name": "python",
   "nbconvert_exporter": "python",
   "pygments_lexer": "ipython3",
   "version": "3.9.13"
  }
 },
 "nbformat": 4,
 "nbformat_minor": 5
}
